{
 "cells": [
  {
   "cell_type": "markdown",
   "metadata": {},
   "source": [
    "<center>\n",
    "    <img src=\"https://cf-courses-data.s3.us.cloud-object-storage.appdomain.cloud/IBMDeveloperSkillsNetwork-DS0105EN-SkillsNetwork/labs/Module2/images/SN_web_lightmode.png\" width=\"300\" alt=\"cognitiveclass.ai logo\"  />\n",
    "</center>\n"
   ]
  },
  {
   "cell_type": "markdown",
   "metadata": {},
   "source": [
    "#### Add your code below following the instructions given in the course\n"
   ]
  },
  {
   "cell_type": "markdown",
   "metadata": {},
   "source": [
    "# My Jupyter Notebook on IBM Watson Studio"
   ]
  },
  {
   "cell_type": "markdown",
   "metadata": {},
   "source": [
    "**Themistoklis Ioannidis**\n",
    "<br>\n",
    "Data Science student"
   ]
  },
  {
   "cell_type": "markdown",
   "metadata": {},
   "source": [
    "*I am interested in data science because I like to get the useful information out of data sources*"
   ]
  },
  {
   "cell_type": "markdown",
   "metadata": {},
   "source": [
    "### The following function returns the average for a list of numbers"
   ]
  },
  {
   "cell_type": "code",
   "execution_count": 1,
   "metadata": {},
   "outputs": [
    {
     "name": "stdout",
     "output_type": "stream",
     "text": [
      "The average of the first 10 natural numbers is:  4.5\n"
     ]
    }
   ],
   "source": [
    "def f_average(num):\n",
    "    total = 0\n",
    "    for i in num:\n",
    "        total = total + i           \n",
    "\n",
    "    avg = total / len(num)\n",
    "    return avg\n",
    "\n",
    "print(\"The average of the first 10 natural numbers is: \", f_average([0,1,2,3,4,5,6,7,8,9]))"
   ]
  },
  {
   "cell_type": "markdown",
   "metadata": {},
   "source": [
    "* One\n",
    "* Two\n",
    "* Three\n",
    "***\n",
    "1. First\n",
    "2. Second\n",
    "3. Third\n",
    "***\n",
    "|Day|Order|\n",
    "|---|-----|\n",
    "|Sunday|0|\n",
    "|Monday|1|\n",
    "|Tuesday|2|\n",
    "|Wednesday|3|\n",
    "|Thursday|4|\n",
    "|Friday|5|\n",
    "|Saturday|6|\n",
    "\n",
    "\n",
    "__[coursera.org](http://coursera.org)__"
   ]
  },
  {
   "cell_type": "code",
   "execution_count": null,
   "metadata": {},
   "outputs": [],
   "source": []
  }
 ],
 "metadata": {
  "kernelspec": {
   "display_name": "Python",
   "language": "python",
   "name": "conda-env-python-py"
  },
  "language_info": {
   "codemirror_mode": {
    "name": "ipython",
    "version": 3
   },
   "file_extension": ".py",
   "mimetype": "text/x-python",
   "name": "python",
   "nbconvert_exporter": "python",
   "pygments_lexer": "ipython3",
   "version": "3.7.12"
  }
 },
 "nbformat": 4,
 "nbformat_minor": 4
}
